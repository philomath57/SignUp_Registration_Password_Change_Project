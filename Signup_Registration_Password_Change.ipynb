{
 "cells": [
  {
   "cell_type": "code",
   "execution_count": 10,
   "id": "98e00483",
   "metadata": {},
   "outputs": [
    {
     "name": "stdout",
     "output_type": "stream",
     "text": [
      "Please enter 1 for Sign up\n",
      "Please enter 2 for Log in\n",
      "Please enter 3 for Exit\n"
     ]
    }
   ],
   "source": [
    "print(\"\"\"Please enter 1 for Sign up\n",
    "Please enter 2 for Log in\n",
    "Please enter 3 for Exit\"\"\")"
   ]
  },
  {
   "cell_type": "code",
   "execution_count": 11,
   "id": "937628d4",
   "metadata": {},
   "outputs": [
    {
     "name": "stdout",
     "output_type": "stream",
     "text": [
      "Please enter your choice: 1\n",
      "Enter Your Name: Allen Solly\n",
      "Enter Contact Number: 0789532148\n",
      "Enter Your Email Id: allen456@gmail.com\n",
      "Enter Your Date of Birth: 12/03/1993\n",
      "Create Your Password: Allen@1256\n",
      "Enter Password for Confirmation: Allen@1256\n",
      "*********************************************************************\n",
      "*********************************************************************\n",
      "Name:  Allen Solly ||||| Contact Number:  0789532148 ||||| Email:  allen456@gmail.com ||||| Date of Birth:  12/03/1993 ||||| Password:  Allen@1256\n",
      "*********************************************************************\n",
      "*********************************************************************\n",
      "['Allen Solly', '0789532148', 'allen456@gmail.com', '12/03/1993', 'Allen@1256']\n",
      "*********************************************************************\n",
      "*********************************************************************\n",
      "You have succefully Signed up.\n",
      "*********************************************************************\n"
     ]
    }
   ],
   "source": [
    "import sys\n",
    "import datetime\n",
    "import re\n",
    "date_format = \"%d/%m/%Y\"\n",
    "list_details = []\n",
    "user = int(input(\"Please enter your choice: \"))\n",
    "if user == 3:\n",
    "    print(\"Thank You for using the Application.\")\n",
    "    exit()\n",
    "elif user == 1:\n",
    "    class signup:\n",
    "        def __init__(self):\n",
    "            self.name = input(\"Enter Your Name: \")\n",
    "            self.number = input(\"Enter Contact Number: \")\n",
    "            self.email = input(\"Enter Your Email Id: \")\n",
    "            self.dob = input(\"Enter Your Date of Birth: \")\n",
    "            datetime.datetime.strptime(self.dob,\"%d/%m/%Y\").date()\n",
    "            self.password = input(\"Create Your Password: \")\n",
    "            self.confirm_password = input(\"Enter Password for Confirmation: \")\n",
    "        def checking_details(self):\n",
    "            if len(self.number) != 10 and self.number[0] != 0:\n",
    "                print(\"Length of your Mobile number should be 10 and it should start with 0.\")\n",
    "                sys.exit()\n",
    "            elif re.findall(\"[A-Za-z@#$0-9]\",self.password) == False:\n",
    "                print(\"Your Password does not matches the given Criteria\")\n",
    "                print(\"Password must start with an alphabet, have a special character and then numbers\")\n",
    "                sys.exit()\n",
    "            elif self.password != self.confirm_password:\n",
    "                print(\"Your passwords are not Matching\")\n",
    "                print(\"Please Start Again\")\n",
    "                sys.exit()\n",
    "            elif bool(datetime.datetime.strptime(self.dob, date_format)) == False:\n",
    "                print(\"You have entered the Date of Birth in Invalid Format.\")\n",
    "                print(\"Correct format is %d/%m/%Y\")\n",
    "                print(\"Please Start Again\")\n",
    "                sys.exit()\n",
    "            #elif datetime.datetime.now().date() - self.dob < 18:\n",
    "                #print(\"Minimum Age for signing up is 18\")\n",
    "                #sys.exit()\n",
    "        def display_details(self):\n",
    "            list_details.append(self.name)\n",
    "            list_details.append(self.number)\n",
    "            list_details.append(self.email)\n",
    "            list_details.append(self.dob)\n",
    "            list_details.append(self.password)\n",
    "            print(\"*********************************************************************\")\n",
    "            print(\"*********************************************************************\")\n",
    "            print(\"Name: \",self.name,\"|||||\", \"Contact Number: \",self.number,\"|||||\", \"Email: \",self.email,\"|||||\", \"Date of Birth: \",self.dob, \"|||||\",\"Password: \",self.password)\n",
    "            print(\"*********************************************************************\")\n",
    "            print(\"*********************************************************************\")\n",
    "            print(list_details)\n",
    "            print(\"*********************************************************************\")\n",
    "            print(\"*********************************************************************\")\n",
    "            print(\"You have succefully Signed up.\")\n",
    "            print(\"*********************************************************************\")\n",
    "user1 = signup()\n",
    "user1.checking_details()\n",
    "user1.display_details()"
   ]
  },
  {
   "cell_type": "code",
   "execution_count": 12,
   "id": "3e080981",
   "metadata": {},
   "outputs": [
    {
     "name": "stdout",
     "output_type": "stream",
     "text": [
      "Please enter 1 for Sign up\n",
      "Please enter 2 for Log in\n",
      "Please enter 3 for Exit\n"
     ]
    }
   ],
   "source": [
    "print(\"\"\"Please enter 1 for Sign up\n",
    "Please enter 2 for Log in\n",
    "Please enter 3 for Exit\"\"\")"
   ]
  },
  {
   "cell_type": "code",
   "execution_count": 13,
   "id": "3326c5b2",
   "metadata": {},
   "outputs": [
    {
     "name": "stdout",
     "output_type": "stream",
     "text": [
      "Please enter your choice: 2\n",
      "Please enter you email Address and Password to Login to your portal\n",
      "*********************************************************************\n",
      "Please enter your name: Allen Solly\n",
      "Please enter your username (Mobile Number): 0789532148\n",
      "Enter Password: Allen@1256\n",
      "*********************************************************************\n",
      "*********************************************************************\n",
      "You have Successfully Signed in\n",
      "*********************************************************************\n",
      "*********************************************************************\n",
      "Welcome  Allen Solly\n",
      "*********************************************************************\n",
      "Please enter 4 for Resetting the Password.\n",
      "Please enter 5 for Signout.\n"
     ]
    }
   ],
   "source": [
    "user = int(input(\"Please enter your choice: \"))\n",
    "if user == 2:\n",
    "    print(\"Please enter you email Address and Password to Login to your portal\")\n",
    "    print(\"*********************************************************************\")\n",
    "    class login:\n",
    "        def __init__(self):\n",
    "            self.name = input(\"Please enter your name: \")\n",
    "            self.number = input(\"Please enter your username (Mobile Number): \")\n",
    "            self.password_log = input(\"Enter Password: \")\n",
    "        def log_checking(self):\n",
    "            if self.number not in list_details:\n",
    "                print(\"*********************************************************************\")\n",
    "                print(\"*********************************************************************\")\n",
    "                print(\"Email Address not Found\")\n",
    "                print(\"*********************************************************************\")\n",
    "                print(\"*********************************************************************\")\n",
    "            elif self.password_log not in list_details:\n",
    "                print(\"You have entered a wrong Password!!! Please check.\")\n",
    "                print(\"*********************************************************************\")\n",
    "                print(\"*********************************************************************\")\n",
    "        def display_log_details(self):\n",
    "            print(\"*********************************************************************\")\n",
    "            print(\"*********************************************************************\")\n",
    "            print(\"You have Successfully Signed in\")\n",
    "            print(\"*********************************************************************\")\n",
    "            print(\"*********************************************************************\")\n",
    "            print(\"Welcome \",self.name)\n",
    "            print(\"*********************************************************************\")\n",
    "log1 = login()\n",
    "log1.log_checking()\n",
    "log1.display_log_details()\n",
    "print(\"Please enter 4 for Resetting the Password.\")\n",
    "print(\"Please enter 5 for Signout.\")"
   ]
  },
  {
   "cell_type": "code",
   "execution_count": 14,
   "id": "7c42aede",
   "metadata": {},
   "outputs": [
    {
     "name": "stdout",
     "output_type": "stream",
     "text": [
      "Enter Your choice: 4\n",
      "Please enter your username (Mobile Number): 0789532148\n",
      "Please enter your old password: Allen@1256\n",
      "Enter Your Date of Birth: 12/03/1993\n",
      "Please create a new password: DFllen@1256\n",
      "*********************************************************************\n",
      "*********************************************************************\n",
      "Your password has been reset successfully\n",
      "*********************************************************************\n",
      "*********************************************************************\n",
      "Please enter 4 for Resetting the Password.\n",
      "*********************************************************************\n",
      "*********************************************************************\n",
      "Please enter 5 for Signout.\n",
      "*********************************************************************\n"
     ]
    }
   ],
   "source": [
    "user = int(input(\"Enter Your choice: \"))\n",
    "if user == 4:\n",
    "    class change_password:\n",
    "        def __init__(self):\n",
    "            self.number = input(\"Please enter your username (Mobile Number): \")\n",
    "            self.password = input(\"Please enter your old password: \")\n",
    "            self.dob = input(\"Enter Your Date of Birth: \")\n",
    "            datetime.datetime.strptime(self.dob,\"%d/%m/%Y\").date() \n",
    "            self.password_new = input(\"Please create a new password: \")\n",
    "        def modify_password(self):\n",
    "            if self.password in list_details and re.findall(\"[A-Za-z@#$0-9]\",self.password_new) == False and self.dob in list_details:\n",
    "                return True\n",
    "            elif self.password == self.password_new:\n",
    "                print(\"*********************************************************************\")\n",
    "                print(\"*********************************************************************\")\n",
    "                print(\"You Cannot use the Password used Earlier\")\n",
    "                print(\"*********************************************************************\")\n",
    "                print(\"*********************************************************************\")\n",
    "            else:\n",
    "                list_details[4] = self.password_new \n",
    "        def display_password(self):\n",
    "            print(\"*********************************************************************\")\n",
    "            print(\"*********************************************************************\")\n",
    "            print(\"Your password has been reset successfully\")\n",
    "            print(\"*********************************************************************\")\n",
    "            print(\"*********************************************************************\")\n",
    "elif user == 5:\n",
    "    print(\"*********************************************************************\")\n",
    "    print(\"*********************************************************************\")\n",
    "    print(\"Thank You for using the Application\")\n",
    "    print(\"*********************************************************************\")\n",
    "    print(\"*********************************************************************\")\n",
    "    print(\"\"\"Please enter 1 for Sign up\n",
    "    Please enter 2 for Log in\n",
    "    Please enter 3 for Exit\"\"\")\n",
    "    print(\"*********************************************************************\")\n",
    "    print(\"*********************************************************************\")\n",
    "    sys.exit()\n",
    "pas1 = change_password()\n",
    "pas1.modify_password()\n",
    "pas1.display_password()\n",
    "print(\"Please enter 4 for Resetting the Password.\")\n",
    "print(\"*********************************************************************\")\n",
    "print(\"*********************************************************************\")\n",
    "print(\"Please enter 5 for Signout.\")\n",
    "print(\"*********************************************************************\")"
   ]
  },
  {
   "cell_type": "code",
   "execution_count": 15,
   "id": "1914fc50",
   "metadata": {},
   "outputs": [
    {
     "name": "stdout",
     "output_type": "stream",
     "text": [
      "['Allen Solly', '0789532148', 'allen456@gmail.com', '12/03/1993', 'DFllen@1256']\n"
     ]
    }
   ],
   "source": [
    "print(list_details)"
   ]
  },
  {
   "cell_type": "code",
   "execution_count": null,
   "id": "bee85558",
   "metadata": {},
   "outputs": [],
   "source": []
  }
 ],
 "metadata": {
  "kernelspec": {
   "display_name": "Python 3 (ipykernel)",
   "language": "python",
   "name": "python3"
  },
  "language_info": {
   "codemirror_mode": {
    "name": "ipython",
    "version": 3
   },
   "file_extension": ".py",
   "mimetype": "text/x-python",
   "name": "python",
   "nbconvert_exporter": "python",
   "pygments_lexer": "ipython3",
   "version": "3.9.12"
  }
 },
 "nbformat": 4,
 "nbformat_minor": 5
}
